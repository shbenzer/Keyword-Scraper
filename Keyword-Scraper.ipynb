{
 "cells": [
  {
   "cell_type": "code",
   "execution_count": 1,
   "id": "413f082a",
   "metadata": {},
   "outputs": [],
   "source": [
    "import selenium\n",
    "from selenium import webdriver\n",
    "from bs4 import BeautifulSoup"
   ]
  },
  {
   "cell_type": "code",
   "execution_count": 2,
   "id": "78b15231",
   "metadata": {},
   "outputs": [],
   "source": [
    "driver = webdriver.Chrome()"
   ]
  },
  {
   "cell_type": "code",
   "execution_count": 3,
   "id": "7b176369",
   "metadata": {},
   "outputs": [],
   "source": [
    "url = \"https://jobs.careers.microsoft.com/global/en/job/1789403/Senior-Software-Engineer\"\n",
    "driver.get(url)"
   ]
  },
  {
   "cell_type": "code",
   "execution_count": 4,
   "id": "9ae9f9d0",
   "metadata": {},
   "outputs": [],
   "source": [
    "html = driver.page_source\n",
    "soup = BeautifulSoup(html, 'html.parser')"
   ]
  },
  {
   "cell_type": "code",
   "execution_count": 5,
   "id": "bd5f2d06",
   "metadata": {},
   "outputs": [],
   "source": [
    "keywords = {}\n",
    "for word in soup.get_text().split():\n",
    "    if word in keywords.keys():\n",
    "        keywords[word] += 1\n",
    "    else:\n",
    "        keywords[word] = 1"
   ]
  },
  {
   "cell_type": "code",
   "execution_count": 6,
   "id": "a741ad1c",
   "metadata": {},
   "outputs": [
    {
     "name": "stdout",
     "output_type": "stream",
     "text": [
      "Microsoft: 17\n",
      "&: 7\n",
      "Careers: 4\n",
      "365: 4\n",
      "Windows: 4\n",
      "Xbox: 4\n",
      "Business: 4\n",
      "Search: 3\n",
      "and: 3\n",
      "Developer: 3\n",
      "|: 2\n",
      "in: 2\n",
      "Teams: 2\n",
      "Small: 2\n",
      "Software: 2\n",
      "PCs: 2\n",
      "Devices: 2\n",
      "for: 2\n",
      "Entertainment: 2\n",
      "Game: 2\n",
      "Pass: 2\n",
      "PC: 2\n",
      "games: 2\n",
      "IT: 2\n",
      "Azure: 2\n",
      "Other: 2\n",
      "Privacy: 2\n",
      "Jobs: 1\n",
      "Skip: 1\n",
      "to: 1\n",
      "main: 1\n",
      "content: 1\n",
      "Home: 1\n",
      "Locations: 1\n",
      "Professions: 1\n",
      "Programs: 1\n",
      "Early: 1\n",
      "profession: 1\n",
      "Military: 1\n",
      "veterans: 1\n",
      "Life: 1\n",
      "at: 1\n",
      "Benefits: 1\n",
      "Culture: 1\n",
      "Diversity: 1\n",
      "Inclusion: 1\n",
      "Flexible: 1\n",
      "work: 1\n",
      "Hiring: 1\n",
      "tips: 1\n",
      "More: 1\n",
      "All: 1\n",
      "Global: 1\n",
      "Copilot: 1\n",
      "Surface: 1\n",
      "Deals: 1\n",
      "Support: 1\n",
      "Apps: 1\n",
      "AI: 1\n",
      "Outlook: 1\n",
      "OneDrive: 1\n",
      "OneNote: 1\n",
      "Edge: 1\n",
      "Skype: 1\n",
      "Computers: 1\n",
      "Shop: 1\n",
      "Accessories: 1\n",
      "VR: 1\n",
      "mixed: 1\n",
      "reality: 1\n",
      "Certified: 1\n",
      "Refurbished: 1\n",
      "Trade-in: 1\n",
      "cash: 1\n",
      "Ultimate: 1\n",
      "Movies: 1\n",
      "TV: 1\n",
      "Cloud: 1\n",
      "Security: 1\n",
      "Dynamics: 1\n",
      "business: 1\n",
      "Power: 1\n",
      "Platform: 1\n",
      "Industry: 1\n",
      "Documentation: 1\n",
      "Learn: 1\n",
      "Tech: 1\n",
      "Community: 1\n",
      "Marketplace: 1\n",
      "AppSource: 1\n",
      "Visual: 1\n",
      "Studio: 1\n",
      "Rewards: 1\n",
      "Free: 1\n",
      "downloads: 1\n",
      "security: 1\n",
      "Education: 1\n",
      "Gift: 1\n",
      "cards: 1\n",
      "Licensing: 1\n",
      "Unlocked: 1\n",
      "stories: 1\n",
      "View: 1\n",
      "Sitemap: 1\n",
      "jobs: 1\n",
      "No: 1\n",
      "results: 1\n",
      "Cancel: 1\n",
      "Sign: 1\n",
      "Loading: 1\n",
      "job: 1\n",
      "details...FeedbackEnglish: 1\n",
      "FR: 1\n",
      "-: 1\n",
      "CanadaSupportAccessibilityMicrosoft: 1\n",
      "Data: 1\n",
      "NoticeLegal: 1\n",
      "policiesContractor: 1\n",
      "rolesYour: 1\n",
      "ChoicesPrivacyTrademarksTerms: 1\n",
      "of: 1\n",
      "use©: 1\n",
      "2024: 1\n"
     ]
    }
   ],
   "source": [
    "for word, count in sorted(keywords.items(), key=lambda item: item[1], reverse=True):\n",
    "    print(f\"{word}: {count}\")"
   ]
  },
  {
   "cell_type": "code",
   "execution_count": 7,
   "id": "8545078f",
   "metadata": {},
   "outputs": [],
   "source": [
    "driver.quit()"
   ]
  }
 ],
 "metadata": {
  "kernelspec": {
   "display_name": "Python 3 (ipykernel)",
   "language": "python",
   "name": "python3"
  },
  "language_info": {
   "codemirror_mode": {
    "name": "ipython",
    "version": 3
   },
   "file_extension": ".py",
   "mimetype": "text/x-python",
   "name": "python",
   "nbconvert_exporter": "python",
   "pygments_lexer": "ipython3",
   "version": "3.11.5"
  }
 },
 "nbformat": 4,
 "nbformat_minor": 5
}
